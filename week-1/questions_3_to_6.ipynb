{
 "cells": [
  {
   "cell_type": "code",
   "execution_count": 1,
   "id": "46d6d9b2",
   "metadata": {},
   "outputs": [],
   "source": [
    "import pandas as pd\n",
    "import sqlalchemy\n",
    "from time import time\n",
    "from pathlib import Path\n",
    "import os"
   ]
  },
  {
   "cell_type": "code",
   "execution_count": 2,
   "id": "b649307a",
   "metadata": {},
   "outputs": [],
   "source": [
    "user = 'root'\n",
    "password = 'root'\n",
    "host = 'localhost'\n",
    "port = '5432'\n",
    "database = 'ny_taxi'\n",
    "table = 'green_taxi_rides'\n",
    "engine = sqlalchemy.create_engine(f'postgresql://{user}:{password}'\n",
    "                        f'@{host}:{port}/{database}')"
   ]
  },
  {
   "cell_type": "code",
   "execution_count": 3,
   "id": "e375ab38",
   "metadata": {},
   "outputs": [],
   "source": [
    "two_levels_up = Path(os.getcwd()).parents[1].as_posix()\n",
    "file_path = two_levels_up + '/data/green_tripdata_2019-09.csv.gz'"
   ]
  },
  {
   "cell_type": "code",
   "execution_count": 4,
   "id": "897cc2e6",
   "metadata": {},
   "outputs": [
    {
     "name": "stdout",
     "output_type": "stream",
     "text": [
      "inserted chunK nro 1 with 100000 rows. Took 8.881335496902466 seconds.\n",
      "inserted chunK nro 2 with 100000 rows. Took 8.989350080490112 seconds.\n",
      "inserted chunK nro 3 with 100000 rows. Took 8.99055290222168 seconds.\n"
     ]
    },
    {
     "name": "stderr",
     "output_type": "stream",
     "text": [
      "C:\\Users\\crist\\AppData\\Local\\Temp\\ipykernel_12004\\241071527.py:5: DtypeWarning: Columns (3) have mixed types. Specify dtype option on import or set low_memory=False.\n",
      "  for df in df_iter:\n"
     ]
    },
    {
     "name": "stdout",
     "output_type": "stream",
     "text": [
      "inserted chunK nro 4 with 100000 rows. Took 9.337682247161865 seconds.\n",
      "inserted chunK nro 5 with 49063 rows. Took 4.194790601730347 seconds.\n"
     ]
    }
   ],
   "source": [
    "# Create an iterator so we can read by chunks\n",
    "df_iter = pd.read_csv(file_path, iterator=True, chunksize = 100_000,\n",
    "compression='gzip',)\n",
    "i = 0\n",
    "for df in df_iter:\n",
    "    i += 1\n",
    "    t_start = time()\n",
    "    date_time_fields = ['lpep_pickup_datetime','lpep_dropoff_datetime', #for green taxi\n",
    "                        'tpep_pickup_datetime', 'tpep_dropoff_datetime' ] # for yellow taxi\n",
    "    for dt_field in date_time_fields:\n",
    "        if dt_field in df.columns:\n",
    "            df[dt_field] = pd.to_datetime(df[dt_field])\n",
    "    df.to_sql(name = table, con = engine, if_exists = 'append')\n",
    "    t_end = time()\n",
    "    print(f'inserted chunK nro {i} with {df.shape[0]} rows. Took {t_end - t_start} seconds.')"
   ]
  },
  {
   "cell_type": "code",
   "execution_count": 6,
   "id": "3bcbde0a",
   "metadata": {},
   "outputs": [
    {
     "data": {
      "text/plain": [
       "265"
      ]
     },
     "execution_count": 6,
     "metadata": {},
     "output_type": "execute_result"
    }
   ],
   "source": [
    "zones_file_path = file_path = two_levels_up + '/data/taxi+_zone_lookup.csv'\n",
    "df_zones =  pd.read_csv(zones_file_path)\n",
    "df_zones.to_sql(name = 'taxi_zones_lookup', con = engine, if_exists = 'replace')"
   ]
  },
  {
   "cell_type": "code",
   "execution_count": 19,
   "id": "be131080",
   "metadata": {},
   "outputs": [
    {
     "data": {
      "text/html": [
       "<div>\n",
       "<style scoped>\n",
       "    .dataframe tbody tr th:only-of-type {\n",
       "        vertical-align: middle;\n",
       "    }\n",
       "\n",
       "    .dataframe tbody tr th {\n",
       "        vertical-align: top;\n",
       "    }\n",
       "\n",
       "    .dataframe thead th {\n",
       "        text-align: right;\n",
       "    }\n",
       "</style>\n",
       "<table border=\"1\" class=\"dataframe\">\n",
       "  <thead>\n",
       "    <tr style=\"text-align: right;\">\n",
       "      <th></th>\n",
       "      <th>LocationID</th>\n",
       "      <th>Borough</th>\n",
       "      <th>Zone</th>\n",
       "      <th>service_zone</th>\n",
       "    </tr>\n",
       "  </thead>\n",
       "  <tbody>\n",
       "    <tr>\n",
       "      <th>0</th>\n",
       "      <td>1</td>\n",
       "      <td>EWR</td>\n",
       "      <td>Newark Airport</td>\n",
       "      <td>EWR</td>\n",
       "    </tr>\n",
       "    <tr>\n",
       "      <th>1</th>\n",
       "      <td>2</td>\n",
       "      <td>Queens</td>\n",
       "      <td>Jamaica Bay</td>\n",
       "      <td>Boro Zone</td>\n",
       "    </tr>\n",
       "    <tr>\n",
       "      <th>2</th>\n",
       "      <td>3</td>\n",
       "      <td>Bronx</td>\n",
       "      <td>Allerton/Pelham Gardens</td>\n",
       "      <td>Boro Zone</td>\n",
       "    </tr>\n",
       "  </tbody>\n",
       "</table>\n",
       "</div>"
      ],
      "text/plain": [
       "   LocationID Borough                     Zone service_zone\n",
       "0           1     EWR           Newark Airport          EWR\n",
       "1           2  Queens              Jamaica Bay    Boro Zone\n",
       "2           3   Bronx  Allerton/Pelham Gardens    Boro Zone"
      ]
     },
     "execution_count": 19,
     "metadata": {},
     "output_type": "execute_result"
    }
   ],
   "source": [
    "df_zones.head(3)"
   ]
  },
  {
   "cell_type": "markdown",
   "id": "2c9c07c6",
   "metadata": {},
   "source": [
    "### Question 3. Count records\n",
    "\n",
    "How many taxi trips were totally made on January 15?"
   ]
  },
  {
   "cell_type": "code",
   "execution_count": 7,
   "id": "9499c942",
   "metadata": {},
   "outputs": [
    {
     "data": {
      "text/html": [
       "<div>\n",
       "<style scoped>\n",
       "    .dataframe tbody tr th:only-of-type {\n",
       "        vertical-align: middle;\n",
       "    }\n",
       "\n",
       "    .dataframe tbody tr th {\n",
       "        vertical-align: top;\n",
       "    }\n",
       "\n",
       "    .dataframe thead th {\n",
       "        text-align: right;\n",
       "    }\n",
       "</style>\n",
       "<table border=\"1\" class=\"dataframe\">\n",
       "  <thead>\n",
       "    <tr style=\"text-align: right;\">\n",
       "      <th></th>\n",
       "      <th>count</th>\n",
       "    </tr>\n",
       "  </thead>\n",
       "  <tbody>\n",
       "    <tr>\n",
       "      <th>0</th>\n",
       "      <td>15612</td>\n",
       "    </tr>\n",
       "  </tbody>\n",
       "</table>\n",
       "</div>"
      ],
      "text/plain": [
       "   count\n",
       "0  15612"
      ]
     },
     "execution_count": 7,
     "metadata": {},
     "output_type": "execute_result"
    }
   ],
   "source": [
    "\n",
    "query = '''\n",
    "SELECT COUNT(*)\n",
    "FROM green_taxi_rides\n",
    "WHERE DATE(lpep_pickup_datetime) = '2019-09-18'\n",
    "AND DATE(lpep_dropoff_datetime) = '2019-09-18'\n",
    "'''\n",
    "pd.read_sql(query, con = engine)"
   ]
  },
  {
   "cell_type": "markdown",
   "id": "3589d7a3",
   "metadata": {},
   "source": [
    "### Question 4. Largest trip for each day\n",
    "\n",
    "Which was the day with the largest trip distance Use the pick up time for your calculations."
   ]
  },
  {
   "cell_type": "code",
   "execution_count": 8,
   "id": "85a3f1a7",
   "metadata": {},
   "outputs": [
    {
     "data": {
      "text/html": [
       "<div>\n",
       "<style scoped>\n",
       "    .dataframe tbody tr th:only-of-type {\n",
       "        vertical-align: middle;\n",
       "    }\n",
       "\n",
       "    .dataframe tbody tr th {\n",
       "        vertical-align: top;\n",
       "    }\n",
       "\n",
       "    .dataframe thead th {\n",
       "        text-align: right;\n",
       "    }\n",
       "</style>\n",
       "<table border=\"1\" class=\"dataframe\">\n",
       "  <thead>\n",
       "    <tr style=\"text-align: right;\">\n",
       "      <th></th>\n",
       "      <th>date</th>\n",
       "      <th>trip_distance</th>\n",
       "    </tr>\n",
       "  </thead>\n",
       "  <tbody>\n",
       "    <tr>\n",
       "      <th>0</th>\n",
       "      <td>2019-09-26</td>\n",
       "      <td>341.64</td>\n",
       "    </tr>\n",
       "    <tr>\n",
       "      <th>1</th>\n",
       "      <td>2019-09-21</td>\n",
       "      <td>135.53</td>\n",
       "    </tr>\n",
       "    <tr>\n",
       "      <th>2</th>\n",
       "      <td>2019-09-16</td>\n",
       "      <td>114.30</td>\n",
       "    </tr>\n",
       "  </tbody>\n",
       "</table>\n",
       "</div>"
      ],
      "text/plain": [
       "         date  trip_distance\n",
       "0  2019-09-26         341.64\n",
       "1  2019-09-21         135.53\n",
       "2  2019-09-16         114.30"
      ]
     },
     "execution_count": 8,
     "metadata": {},
     "output_type": "execute_result"
    }
   ],
   "source": [
    "query = '''\n",
    "SELECT DATE(lpep_pickup_datetime) AS date, trip_distance\n",
    "FROM green_taxi_rides\n",
    "ORDER BY trip_distance DESC\n",
    "LIMIT 3\n",
    "'''\n",
    "pd.read_sql(query, con = engine)"
   ]
  },
  {
   "cell_type": "markdown",
   "id": "1cb0a5cb",
   "metadata": {},
   "source": [
    "### Question 5. Three biggest pick up Boroughs\n",
    "\n",
    "Consider lpep_pickup_datetime in '2019-09-18' and ignoring Borough has Unknown\n",
    "\n",
    "Which were the 3 pick up Boroughs that had a sum of total_amount superior to 50000?"
   ]
  },
  {
   "cell_type": "code",
   "execution_count": 20,
   "id": "988ecc57",
   "metadata": {},
   "outputs": [
    {
     "data": {
      "text/html": [
       "<div>\n",
       "<style scoped>\n",
       "    .dataframe tbody tr th:only-of-type {\n",
       "        vertical-align: middle;\n",
       "    }\n",
       "\n",
       "    .dataframe tbody tr th {\n",
       "        vertical-align: top;\n",
       "    }\n",
       "\n",
       "    .dataframe thead th {\n",
       "        text-align: right;\n",
       "    }\n",
       "</style>\n",
       "<table border=\"1\" class=\"dataframe\">\n",
       "  <thead>\n",
       "    <tr style=\"text-align: right;\">\n",
       "      <th></th>\n",
       "      <th>pickup_borough</th>\n",
       "      <th>q_trips</th>\n",
       "      <th>total_amount</th>\n",
       "    </tr>\n",
       "  </thead>\n",
       "  <tbody>\n",
       "    <tr>\n",
       "      <th>0</th>\n",
       "      <td>Brooklyn</td>\n",
       "      <td>4458</td>\n",
       "      <td>96333.24</td>\n",
       "    </tr>\n",
       "    <tr>\n",
       "      <th>1</th>\n",
       "      <td>Manhattan</td>\n",
       "      <td>5575</td>\n",
       "      <td>92271.30</td>\n",
       "    </tr>\n",
       "    <tr>\n",
       "      <th>2</th>\n",
       "      <td>Queens</td>\n",
       "      <td>4393</td>\n",
       "      <td>78671.71</td>\n",
       "    </tr>\n",
       "  </tbody>\n",
       "</table>\n",
       "</div>"
      ],
      "text/plain": [
       "  pickup_borough  q_trips  total_amount\n",
       "0       Brooklyn     4458      96333.24\n",
       "1      Manhattan     5575      92271.30\n",
       "2         Queens     4393      78671.71"
      ]
     },
     "execution_count": 20,
     "metadata": {},
     "output_type": "execute_result"
    }
   ],
   "source": [
    "query = '''\n",
    "SELECT pu_zone.\"Borough\" as pickup_borough,\n",
    "COUNT(*) AS q_trips, SUM(total_amount) as total_amount\n",
    "FROM green_taxi_rides gtr\n",
    "LEFT JOIN taxi_zones_lookup pu_zone\n",
    "    ON gtr.\"PULocationID\" = pu_zone.\"LocationID\"\n",
    "WHERE DATE(lpep_pickup_datetime) = '2019-09-18'\n",
    "GROUP BY pu_zone.\"Borough\"\n",
    "HAVING SUM(total_amount) > 50000\n",
    "ORDER BY total_amount DESC\n",
    "LIMIT 5\n",
    "'''\n",
    "pd.read_sql(query, con = engine)"
   ]
  },
  {
   "cell_type": "markdown",
   "id": "7c410612",
   "metadata": {},
   "source": [
    "### Question 6. Largest tip\n",
    "\n",
    "For the passengers picked up in the Astoria Zone which was the drop off zone that had the largest tip? We want the name of the zone, not the id."
   ]
  },
  {
   "cell_type": "code",
   "execution_count": 25,
   "id": "2eddc786",
   "metadata": {},
   "outputs": [
    {
     "data": {
      "text/html": [
       "<div>\n",
       "<style scoped>\n",
       "    .dataframe tbody tr th:only-of-type {\n",
       "        vertical-align: middle;\n",
       "    }\n",
       "\n",
       "    .dataframe tbody tr th {\n",
       "        vertical-align: top;\n",
       "    }\n",
       "\n",
       "    .dataframe thead th {\n",
       "        text-align: right;\n",
       "    }\n",
       "</style>\n",
       "<table border=\"1\" class=\"dataframe\">\n",
       "  <thead>\n",
       "    <tr style=\"text-align: right;\">\n",
       "      <th></th>\n",
       "      <th>dropoff_zone</th>\n",
       "      <th>tip_amount</th>\n",
       "    </tr>\n",
       "  </thead>\n",
       "  <tbody>\n",
       "    <tr>\n",
       "      <th>0</th>\n",
       "      <td>JFK Airport</td>\n",
       "      <td>62.31</td>\n",
       "    </tr>\n",
       "    <tr>\n",
       "      <th>1</th>\n",
       "      <td>Woodside</td>\n",
       "      <td>30.00</td>\n",
       "    </tr>\n",
       "    <tr>\n",
       "      <th>2</th>\n",
       "      <td>Kips Bay</td>\n",
       "      <td>28.00</td>\n",
       "    </tr>\n",
       "    <tr>\n",
       "      <th>3</th>\n",
       "      <td>NV</td>\n",
       "      <td>25.00</td>\n",
       "    </tr>\n",
       "    <tr>\n",
       "      <th>4</th>\n",
       "      <td>Upper West Side South</td>\n",
       "      <td>20.00</td>\n",
       "    </tr>\n",
       "  </tbody>\n",
       "</table>\n",
       "</div>"
      ],
      "text/plain": [
       "            dropoff_zone  tip_amount\n",
       "0            JFK Airport       62.31\n",
       "1               Woodside       30.00\n",
       "2               Kips Bay       28.00\n",
       "3                     NV       25.00\n",
       "4  Upper West Side South       20.00"
      ]
     },
     "execution_count": 25,
     "metadata": {},
     "output_type": "execute_result"
    }
   ],
   "source": [
    "query = '''\n",
    "SELECT do_zone.\"Zone\" as dropoff_zone,\n",
    "tip_amount\n",
    "FROM green_taxi_rides gtr\n",
    "LEFT JOIN taxi_zones_lookup pu_zone\n",
    "    ON gtr.\"PULocationID\" = pu_zone.\"LocationID\"\n",
    "LEFT JOIN taxi_zones_lookup do_zone\n",
    "    ON gtr.\"DOLocationID\" = do_zone.\"LocationID\"\n",
    "WHERE pu_zone.\"Zone\" = 'Astoria'\n",
    "ORDER BY tip_amount DESC\n",
    "LIMIT 5\n",
    "'''\n",
    "pd.read_sql(query, con = engine)"
   ]
  },
  {
   "cell_type": "code",
   "execution_count": null,
   "id": "72e3ed83",
   "metadata": {},
   "outputs": [],
   "source": []
  }
 ],
 "metadata": {
  "kernelspec": {
   "display_name": "Python 3 (ipykernel)",
   "language": "python",
   "name": "python3"
  },
  "language_info": {
   "codemirror_mode": {
    "name": "ipython",
    "version": 3
   },
   "file_extension": ".py",
   "mimetype": "text/x-python",
   "name": "python",
   "nbconvert_exporter": "python",
   "pygments_lexer": "ipython3",
   "version": "3.10.9"
  }
 },
 "nbformat": 4,
 "nbformat_minor": 5
}
